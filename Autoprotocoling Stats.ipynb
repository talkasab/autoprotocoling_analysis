{
 "cells": [
  {
   "cell_type": "code",
   "execution_count": 1,
   "metadata": {},
   "outputs": [],
   "source": [
    "import numpy as np\n",
    "import pandas as pd\n",
    "import matplotlib.pyplot as plt\n",
    "from matplotlib import style\n",
    "from matplotlib.patches import Rectangle\n",
    "import seaborn as sns\n",
    "from datetime import datetime"
   ]
  },
  {
   "cell_type": "code",
   "execution_count": 2,
   "metadata": {},
   "outputs": [],
   "source": [
    "exams = pd.read_parquet('exams.parquet')"
   ]
  },
  {
   "cell_type": "code",
   "execution_count": 3,
   "metadata": {},
   "outputs": [
    {
     "name": "stdout",
     "output_type": "stream",
     "text": [
      "<class 'pandas.core.frame.DataFrame'>\n",
      "DatetimeIndex: 533417 entries, 2020-07-01 07:28:47.017000 to 2022-06-30 23:44:45.623000\n",
      "Data columns (total 17 columns):\n",
      " #   Column          Non-Null Count   Dtype         \n",
      "---  ------          --------------   -----         \n",
      " 0   OrdDate         533413 non-null  datetime64[ns]\n",
      " 1   SchDate         533417 non-null  datetime64[ns]\n",
      " 2   EndDate         494088 non-null  datetime64[ns]\n",
      " 3   acc             533417 non-null  string        \n",
      " 4   Pt_Status       533417 non-null  category      \n",
      " 5   ProtocolSystem  533417 non-null  category      \n",
      " 6   DOB             533417 non-null  datetime64[ns]\n",
      " 7   Age             533417 non-null  int64         \n",
      " 8   sex             533417 non-null  category      \n",
      " 9   ProtocolID      533417 non-null  int64         \n",
      " 10  ProtocolCode    533391 non-null  category      \n",
      " 11  Modality        533394 non-null  category      \n",
      " 12  Division        533394 non-null  category      \n",
      " 13  OrdExam         533394 non-null  category      \n",
      " 14  PerfExam        533417 non-null  category      \n",
      " 15  Ex_stat         533417 non-null  category      \n",
      " 16  signs_symptoms  533309 non-null  string        \n",
      "dtypes: category(9), datetime64[ns](4), int64(2), string(2)\n",
      "memory usage: 42.8 MB\n"
     ]
    }
   ],
   "source": [
    "exams.info()"
   ]
  },
  {
   "cell_type": "code",
   "execution_count": 1,
   "metadata": {},
   "outputs": [
    {
     "ename": "NameError",
     "evalue": "name 'exams' is not defined",
     "output_type": "error",
     "traceback": [
      "\u001b[0;31m---------------------------------------------------------------------------\u001b[0m",
      "\u001b[0;31mNameError\u001b[0m                                 Traceback (most recent call last)",
      "\u001b[1;32m/Users/talkasab/Library/CloudStorage/OneDrive-PartnersHealthCare/Autoprotocoling - General/Analysis/Autoprotocoling Stats.ipynb Cell 4\u001b[0m in \u001b[0;36m<cell line: 1>\u001b[0;34m()\u001b[0m\n\u001b[0;32m----> <a href='vscode-notebook-cell:/Users/talkasab/Library/CloudStorage/OneDrive-PartnersHealthCare/Autoprotocoling%20-%20General/Analysis/Autoprotocoling%20Stats.ipynb#X26sZmlsZQ%3D%3D?line=0'>1</a>\u001b[0m exams\u001b[39m.\u001b[39mAge\u001b[39m.\u001b[39mhist()\n",
      "\u001b[0;31mNameError\u001b[0m: name 'exams' is not defined"
     ]
    }
   ],
   "source": [
    "exams.Age.hist()"
   ]
  },
  {
   "cell_type": "code",
   "execution_count": 86,
   "metadata": {},
   "outputs": [
    {
     "data": {
      "text/plain": [
       "CT.TH.CHEST       83055\n",
       "CT.TH.CHESTPE     14812\n",
       "CT.TH.CHESTSCR     7254\n",
       "CT.TH.CHESTPT        10\n",
       "CT.TH.CHESTPEA        2\n",
       "MR.NE.SACPLX          0\n",
       "MR.VA.AGFERUN         0\n",
       "MR.VA.AGCHEST         0\n",
       "MR.VA.AGAORARC        0\n",
       "MR.VA.AGABD           0\n",
       "MR.TH.CHEST           0\n",
       "MR.NE.TMJ             0\n",
       "MR.NE.SPINEO          0\n",
       "CT.3D.ABDPEL          0\n",
       "MR.VA.AGPEL           0\n",
       "MR.NE.NECKAG          0\n",
       "MR.NE.NECK            0\n",
       "MR.NE.HEADAG          0\n",
       "MR.NE.FACE            0\n",
       "MR.NE.BRNOR           0\n",
       "Name: OrdExam, dtype: int64"
      ]
     },
     "execution_count": 86,
     "metadata": {},
     "output_type": "execute_result"
    }
   ],
   "source": [
    "exams[(~ exams.OrdExam.isna()) & exams.OrdExam.str.match(r\"CT.TH\")].OrdExam.value_counts().head(20)"
   ]
  },
  {
   "cell_type": "code",
   "execution_count": 10,
   "metadata": {},
   "outputs": [
    {
     "data": {
      "text/plain": [
       "O    316875\n",
       "E    109555\n",
       "I    106987\n",
       "Name: Pt_Status, dtype: int64"
      ]
     },
     "execution_count": 10,
     "metadata": {},
     "output_type": "execute_result"
    }
   ],
   "source": [
    "exams['Pt_Status'].value_counts(dropna=False)"
   ]
  },
  {
   "cell_type": "code",
   "execution_count": 4,
   "metadata": {},
   "outputs": [
    {
     "name": "stdout",
     "output_type": "stream",
     "text": [
      "<class 'pandas.core.frame.DataFrame'>\n",
      "RangeIndex: 317597 entries, 0 to 317596\n",
      "Data columns (total 11 columns):\n",
      " #   Column          Non-Null Count   Dtype         \n",
      "---  ------          --------------   -----         \n",
      " 0   Pt_Status       317597 non-null  category      \n",
      " 1   ProtocolSystem  317597 non-null  category      \n",
      " 2   ProtocolID      317597 non-null  int64         \n",
      " 3   ProtocolCode    317571 non-null  category      \n",
      " 4   OrdDate         317597 non-null  datetime64[ns]\n",
      " 5   ProtDate        317597 non-null  datetime64[ns]\n",
      " 6   SchDate         317597 non-null  datetime64[ns]\n",
      " 7   EndDate         317595 non-null  datetime64[ns]\n",
      " 8   OP_interval     317597 non-null  float64       \n",
      " 9   PE_interval     317595 non-null  float64       \n",
      " 10  OE_interval     317595 non-null  float64       \n",
      "dtypes: category(3), datetime64[ns](4), float64(3), int64(1)\n",
      "memory usage: 20.6 MB\n"
     ]
    }
   ],
   "source": [
    "ct_exams=exams[(exams['Modality'] == 'CT') & (exams['Ex_stat'].isin(['F','A']))][['OrdDate', 'SchDate', 'EndDate', 'Pt_Status', 'ProtocolSystem', 'ProtocolID', 'ProtocolCode']]\n",
    "ct_exams.reset_index(drop=False, inplace=True)\n",
    "ct_exams['OP_interval']=(ct_exams['ProtDate']-ct_exams['OrdDate']).dt.total_seconds()/3600\n",
    "ct_exams['PE_interval']=(ct_exams['EndDate']-ct_exams['ProtDate']).dt.total_seconds()/3600\n",
    "ct_exams['OE_interval']=(ct_exams['EndDate']-ct_exams['OrdDate']).dt.total_seconds()/3600\n",
    "ct_exams=ct_exams[['Pt_Status', 'ProtocolSystem', 'ProtocolID', 'ProtocolCode', 'OrdDate', 'ProtDate', 'SchDate', 'EndDate', 'OP_interval', 'PE_interval', 'OE_interval']]\n",
    "ct_exams.info()\n"
   ]
  },
  {
   "cell_type": "code",
   "execution_count": 15,
   "metadata": {},
   "outputs": [
    {
     "data": {
      "text/plain": [
       "Quarter  ProtocolSystem\n",
       "2020Q3   APE                25\n",
       "         RadDash           203\n",
       "2020Q4   APE                27\n",
       "         RadDash           208\n",
       "2021Q1   APE                26\n",
       "         RadDash           205\n",
       "2021Q2   APE                36\n",
       "         RadDash           226\n",
       "2021Q3   APE                61\n",
       "         RadDash           226\n",
       "2021Q4   APE                66\n",
       "         RadDash           227\n",
       "2022Q1   APE               108\n",
       "         RadDash           220\n",
       "2022Q2   APE               109\n",
       "         RadDash           212\n",
       "Name: ProtocolCode, dtype: int64"
      ]
     },
     "execution_count": 15,
     "metadata": {},
     "output_type": "execute_result"
    }
   ],
   "source": [
    "ct_exams.groupby(['Quarter', 'ProtocolSystem']).ProtocolCode.nunique()"
   ]
  },
  {
   "cell_type": "code",
   "execution_count": 54,
   "metadata": {},
   "outputs": [
    {
     "data": {
      "text/html": [
       "<div>\n",
       "<style scoped>\n",
       "    .dataframe tbody tr th:only-of-type {\n",
       "        vertical-align: middle;\n",
       "    }\n",
       "\n",
       "    .dataframe tbody tr th {\n",
       "        vertical-align: top;\n",
       "    }\n",
       "\n",
       "    .dataframe thead th {\n",
       "        text-align: right;\n",
       "    }\n",
       "</style>\n",
       "<table border=\"1\" class=\"dataframe\">\n",
       "  <thead>\n",
       "    <tr style=\"text-align: right;\">\n",
       "      <th></th>\n",
       "      <th>OP_interval</th>\n",
       "      <th>PE_interval</th>\n",
       "      <th>OE_interval</th>\n",
       "    </tr>\n",
       "  </thead>\n",
       "  <tbody>\n",
       "    <tr>\n",
       "      <th>count</th>\n",
       "      <td>317597.000000</td>\n",
       "      <td>317595.000000</td>\n",
       "      <td>317595.000000</td>\n",
       "    </tr>\n",
       "    <tr>\n",
       "      <th>mean</th>\n",
       "      <td>486.986732</td>\n",
       "      <td>274.330489</td>\n",
       "      <td>761.318779</td>\n",
       "    </tr>\n",
       "    <tr>\n",
       "      <th>std</th>\n",
       "      <td>1394.383759</td>\n",
       "      <td>754.932528</td>\n",
       "      <td>1619.064502</td>\n",
       "    </tr>\n",
       "    <tr>\n",
       "      <th>min</th>\n",
       "      <td>-0.774581</td>\n",
       "      <td>-5.087211</td>\n",
       "      <td>0.036111</td>\n",
       "    </tr>\n",
       "    <tr>\n",
       "      <th>25%</th>\n",
       "      <td>0.043225</td>\n",
       "      <td>1.826238</td>\n",
       "      <td>2.302778</td>\n",
       "    </tr>\n",
       "    <tr>\n",
       "      <th>50%</th>\n",
       "      <td>0.681983</td>\n",
       "      <td>8.964340</td>\n",
       "      <td>22.851944</td>\n",
       "    </tr>\n",
       "    <tr>\n",
       "      <th>75%</th>\n",
       "      <td>167.044833</td>\n",
       "      <td>183.857871</td>\n",
       "      <td>719.342778</td>\n",
       "    </tr>\n",
       "    <tr>\n",
       "      <th>max</th>\n",
       "      <td>26187.223912</td>\n",
       "      <td>8820.529694</td>\n",
       "      <td>26373.348611</td>\n",
       "    </tr>\n",
       "  </tbody>\n",
       "</table>\n",
       "</div>"
      ],
      "text/plain": [
       "         OP_interval    PE_interval    OE_interval\n",
       "count  317597.000000  317595.000000  317595.000000\n",
       "mean      486.986732     274.330489     761.318779\n",
       "std      1394.383759     754.932528    1619.064502\n",
       "min        -0.774581      -5.087211       0.036111\n",
       "25%         0.043225       1.826238       2.302778\n",
       "50%         0.681983       8.964340      22.851944\n",
       "75%       167.044833     183.857871     719.342778\n",
       "max     26187.223912    8820.529694   26373.348611"
      ]
     },
     "execution_count": 54,
     "metadata": {},
     "output_type": "execute_result"
    }
   ],
   "source": [
    "ct_exams[['OP_interval', 'PE_interval', 'OE_interval']].describe()"
   ]
  },
  {
   "cell_type": "code",
   "execution_count": 57,
   "metadata": {},
   "outputs": [
    {
     "data": {
      "text/html": [
       "<div>\n",
       "<style scoped>\n",
       "    .dataframe tbody tr th:only-of-type {\n",
       "        vertical-align: middle;\n",
       "    }\n",
       "\n",
       "    .dataframe tbody tr th {\n",
       "        vertical-align: top;\n",
       "    }\n",
       "\n",
       "    .dataframe thead tr th {\n",
       "        text-align: left;\n",
       "    }\n",
       "\n",
       "    .dataframe thead tr:last-of-type th {\n",
       "        text-align: right;\n",
       "    }\n",
       "</style>\n",
       "<table border=\"1\" class=\"dataframe\">\n",
       "  <thead>\n",
       "    <tr>\n",
       "      <th></th>\n",
       "      <th></th>\n",
       "      <th colspan=\"8\" halign=\"left\">OP_interval</th>\n",
       "    </tr>\n",
       "    <tr>\n",
       "      <th></th>\n",
       "      <th></th>\n",
       "      <th>count</th>\n",
       "      <th>mean</th>\n",
       "      <th>std</th>\n",
       "      <th>min</th>\n",
       "      <th>25%</th>\n",
       "      <th>50%</th>\n",
       "      <th>75%</th>\n",
       "      <th>max</th>\n",
       "    </tr>\n",
       "    <tr>\n",
       "      <th>Pt_Status</th>\n",
       "      <th>ProtocolSystem</th>\n",
       "      <th></th>\n",
       "      <th></th>\n",
       "      <th></th>\n",
       "      <th></th>\n",
       "      <th></th>\n",
       "      <th></th>\n",
       "      <th></th>\n",
       "      <th></th>\n",
       "    </tr>\n",
       "  </thead>\n",
       "  <tbody>\n",
       "    <tr>\n",
       "      <th rowspan=\"2\" valign=\"top\">E</th>\n",
       "      <th>APE</th>\n",
       "      <td>44462.0</td>\n",
       "      <td>0.179763</td>\n",
       "      <td>18.237145</td>\n",
       "      <td>-0.028465</td>\n",
       "      <td>0.011003</td>\n",
       "      <td>0.015254</td>\n",
       "      <td>0.019511</td>\n",
       "      <td>3427.209047</td>\n",
       "    </tr>\n",
       "    <tr>\n",
       "      <th>RadDash</th>\n",
       "      <td>40400.0</td>\n",
       "      <td>2.111303</td>\n",
       "      <td>69.699005</td>\n",
       "      <td>0.007191</td>\n",
       "      <td>0.144274</td>\n",
       "      <td>0.299279</td>\n",
       "      <td>0.684212</td>\n",
       "      <td>7753.278322</td>\n",
       "    </tr>\n",
       "    <tr>\n",
       "      <th rowspan=\"2\" valign=\"top\">I</th>\n",
       "      <th>APE</th>\n",
       "      <td>29958.0</td>\n",
       "      <td>0.526143</td>\n",
       "      <td>50.007414</td>\n",
       "      <td>-0.021102</td>\n",
       "      <td>0.011077</td>\n",
       "      <td>0.015260</td>\n",
       "      <td>0.019530</td>\n",
       "      <td>7996.970298</td>\n",
       "    </tr>\n",
       "    <tr>\n",
       "      <th>RadDash</th>\n",
       "      <td>34193.0</td>\n",
       "      <td>3.487954</td>\n",
       "      <td>105.514908</td>\n",
       "      <td>-0.774581</td>\n",
       "      <td>0.192037</td>\n",
       "      <td>0.519926</td>\n",
       "      <td>1.454597</td>\n",
       "      <td>16797.260789</td>\n",
       "    </tr>\n",
       "    <tr>\n",
       "      <th rowspan=\"2\" valign=\"top\">O</th>\n",
       "      <th>APE</th>\n",
       "      <td>67893.0</td>\n",
       "      <td>361.722266</td>\n",
       "      <td>1165.519360</td>\n",
       "      <td>0.001869</td>\n",
       "      <td>0.200209</td>\n",
       "      <td>1.877769</td>\n",
       "      <td>97.987167</td>\n",
       "      <td>22312.017731</td>\n",
       "    </tr>\n",
       "    <tr>\n",
       "      <th>RadDash</th>\n",
       "      <td>100691.0</td>\n",
       "      <td>1289.874967</td>\n",
       "      <td>2050.894351</td>\n",
       "      <td>0.008094</td>\n",
       "      <td>51.633143</td>\n",
       "      <td>431.210325</td>\n",
       "      <td>1734.368346</td>\n",
       "      <td>26187.223912</td>\n",
       "    </tr>\n",
       "  </tbody>\n",
       "</table>\n",
       "</div>"
      ],
      "text/plain": [
       "                         OP_interval                                      \\\n",
       "                               count         mean          std       min   \n",
       "Pt_Status ProtocolSystem                                                   \n",
       "E         APE                44462.0     0.179763    18.237145 -0.028465   \n",
       "          RadDash            40400.0     2.111303    69.699005  0.007191   \n",
       "I         APE                29958.0     0.526143    50.007414 -0.021102   \n",
       "          RadDash            34193.0     3.487954   105.514908 -0.774581   \n",
       "O         APE                67893.0   361.722266  1165.519360  0.001869   \n",
       "          RadDash           100691.0  1289.874967  2050.894351  0.008094   \n",
       "\n",
       "                                                                            \n",
       "                                25%         50%          75%           max  \n",
       "Pt_Status ProtocolSystem                                                    \n",
       "E         APE              0.011003    0.015254     0.019511   3427.209047  \n",
       "          RadDash          0.144274    0.299279     0.684212   7753.278322  \n",
       "I         APE              0.011077    0.015260     0.019530   7996.970298  \n",
       "          RadDash          0.192037    0.519926     1.454597  16797.260789  \n",
       "O         APE              0.200209    1.877769    97.987167  22312.017731  \n",
       "          RadDash         51.633143  431.210325  1734.368346  26187.223912  "
      ]
     },
     "execution_count": 57,
     "metadata": {},
     "output_type": "execute_result"
    }
   ],
   "source": [
    "ct_exams.groupby(['Pt_Status', 'ProtocolSystem'])[['OP_interval']].describe()"
   ]
  },
  {
   "cell_type": "code",
   "execution_count": 55,
   "metadata": {},
   "outputs": [
    {
     "name": "stderr",
     "output_type": "stream",
     "text": [
      "/Users/talkasab/.pyenv/versions/miniconda3-latest/lib/python3.9/site-packages/pandas/core/arraylike.py:397: RuntimeWarning: invalid value encountered in log10\n",
      "  result = getattr(ufunc, method)(*inputs, **kwargs)\n"
     ]
    },
    {
     "data": {
      "text/plain": [
       "<seaborn.axisgrid.FacetGrid at 0x29fd3b760>"
      ]
     },
     "execution_count": 55,
     "metadata": {},
     "output_type": "execute_result"
    },
    {
     "data": {
      "image/png": "[encoded data removed]",
      "text/plain": [
       "<Figure size 1705x360 with 3 Axes>"
      ]
     },
     "metadata": {
      "needs_background": "light"
     },
     "output_type": "display_data"
    }
   ],
   "source": [
    "sns.displot(ct_exams, x='OP_interval', hue='ProtocolSystem', col='Pt_Status', kind='kde', log_scale=(True, False), height=5, aspect=1.5)"
   ]
  },
  {
   "cell_type": "code",
   "execution_count": 56,
   "metadata": {},
   "outputs": [
    {
     "data": {
      "image/png": "[encoded data removed]",
      "text/plain": [
       "<Figure size 1705x360 with 3 Axes>"
      ]
     },
     "metadata": {
      "needs_background": "light"
     },
     "output_type": "display_data"
    }
   ],
   "source": [
    "sns.displot(ct_exams[ct_exams['Pt_Status'].isin(['E', 'I'])], x='OE_interval', hue='ProtocolSystem', col='Pt_Status', kind='kde', log_scale=(True, False), height=5, aspect=1.5)\n",
    "plt.show()"
   ]
  },
  {
   "cell_type": "code",
   "execution_count": 60,
   "metadata": {},
   "outputs": [
    {
     "name": "stderr",
     "output_type": "stream",
     "text": [
      "/Users/talkasab/.pyenv/versions/miniconda3-latest/lib/python3.9/site-packages/pandas/core/arraylike.py:397: RuntimeWarning: invalid value encountered in log10\n",
      "  result = getattr(ufunc, method)(*inputs, **kwargs)\n"
     ]
    },
    {
     "data": {
      "text/plain": [
       "<seaborn.axisgrid.FacetGrid at 0x29ed6daf0>"
      ]
     },
     "execution_count": 60,
     "metadata": {},
     "output_type": "execute_result"
    },
    {
     "data": {
      "image/png": "[encoded data removed]",
      "text/plain": [
       "<Figure size 625x360 with 1 Axes>"
      ]
     },
     "metadata": {
      "needs_background": "light"
     },
     "output_type": "display_data"
    }
   ],
   "source": [
    "sns.displot(ct_exams[ct_exams['Pt_Status'].eq('O')], x='PE_interval', hue='ProtocolSystem', kind='kde', log_scale=(True, False), height=5, aspect=1.5)"
   ]
  },
  {
   "cell_type": "code",
   "execution_count": 14,
   "metadata": {},
   "outputs": [
    {
     "data": {
      "text/plain": [
       "2021Q2    43122\n",
       "2021Q3    42808\n",
       "2021Q4    42164\n",
       "2022Q1    40944\n",
       "2021Q1    39555\n",
       "2020Q3    36972\n",
       "2020Q4    36658\n",
       "2022Q2    35374\n",
       "Name: Quarter, dtype: int64"
      ]
     },
     "execution_count": 14,
     "metadata": {},
     "output_type": "execute_result"
    }
   ],
   "source": [
    "cutoffs=np.array(pd.to_datetime([ '2020-01-01', '2020-10-01', \n",
    "                                 '2021-01-01', '2021-04-01', '2021-07-01', '2021-10-01',\n",
    "                                 '2022-01-01', '2022-04-01', '2023-01-01']))\n",
    "quarter_labels=[\"2020Q3\", \"2020Q4\", \"2021Q1\", \"2021Q2\", \"2021Q3\", \"2021Q4\", \"2022Q1\", \"2022Q2\"]\n",
    "ct_exams['Quarter'] = pd.cut(ct_exams['ProtDate'], bins=cutoffs, labels=quarter_labels)\n",
    "ct_exams.Quarter.value_counts(dropna=True)"
   ]
  },
  {
   "cell_type": "code",
   "execution_count": 69,
   "metadata": {},
   "outputs": [
    {
     "data": {
      "text/plain": [
       "Year         \n",
       "2020  RadDash    0.720345\n",
       "      APE        0.279655\n",
       "2021  RadDash    0.557826\n",
       "      APE        0.442174\n",
       "2022  APE        0.623601\n",
       "      RadDash    0.376399\n",
       "Name: ProtocolSystem, dtype: float64"
      ]
     },
     "execution_count": 69,
     "metadata": {},
     "output_type": "execute_result"
    }
   ],
   "source": [
    "ct_exams.groupby(\"Year\").ProtocolSystem.value_counts(normalize=True) #.unstack().plot(kind='bar', stacked=True)"
   ]
  },
  {
   "cell_type": "code",
   "execution_count": 80,
   "metadata": {},
   "outputs": [
    {
     "data": {
      "text/plain": [
       "Year         \n",
       "2020  RadDash    53039\n",
       "      APE        20591\n",
       "2021  RadDash    93519\n",
       "      APE        74130\n",
       "2022  APE        47592\n",
       "      RadDash    28726\n",
       "Name: ProtocolSystem, dtype: int64"
      ]
     },
     "execution_count": 80,
     "metadata": {},
     "output_type": "execute_result"
    }
   ],
   "source": [
    "ct_exams.groupby(\"Year\").ProtocolSystem.value_counts(normalize=False) #.unstack().plot(kind='bar', stacked=True)"
   ]
  },
  {
   "cell_type": "code",
   "execution_count": 70,
   "metadata": {},
   "outputs": [
    {
     "ename": "ModuleNotFoundError",
     "evalue": "No module named 'pingouin'",
     "output_type": "error",
     "traceback": [
      "\u001b[0;31m---------------------------------------------------------------------------\u001b[0m",
      "\u001b[0;31mModuleNotFoundError\u001b[0m                       Traceback (most recent call last)",
      "\u001b[1;32mUntitled-1.ipynb Cell 14\u001b[0m in \u001b[0;36m<cell line: 1>\u001b[0;34m()\u001b[0m\n\u001b[0;32m----> <a href='vscode-notebook-cell:Untitled-1.ipynb?jupyter-notebook#X20sdW50aXRsZWQ%3D?line=0'>1</a>\u001b[0m \u001b[39mimport\u001b[39;00m \u001b[39mpingouin\u001b[39;00m\n",
      "\u001b[0;31mModuleNotFoundError\u001b[0m: No module named 'pingouin'"
     ]
    }
   ],
   "source": [
    "import pingouin"
   ]
  },
  {
   "cell_type": "code",
   "execution_count": 73,
   "metadata": {},
   "outputs": [],
   "source": [
    "import pingouin"
   ]
  },
  {
   "cell_type": "markdown",
   "metadata": {},
   "source": []
  },
  {
   "cell_type": "code",
   "execution_count": 81,
   "metadata": {},
   "outputs": [
    {
     "data": {
      "text/html": [
       "<div>\n",
       "<style scoped>\n",
       "    .dataframe tbody tr th:only-of-type {\n",
       "        vertical-align: middle;\n",
       "    }\n",
       "\n",
       "    .dataframe tbody tr th {\n",
       "        vertical-align: top;\n",
       "    }\n",
       "\n",
       "    .dataframe thead th {\n",
       "        text-align: right;\n",
       "    }\n",
       "</style>\n",
       "<table border=\"1\" class=\"dataframe\">\n",
       "  <thead>\n",
       "    <tr style=\"text-align: right;\">\n",
       "      <th></th>\n",
       "      <th>test</th>\n",
       "      <th>lambda</th>\n",
       "      <th>chi2</th>\n",
       "      <th>dof</th>\n",
       "      <th>pval</th>\n",
       "      <th>cramer</th>\n",
       "      <th>power</th>\n",
       "    </tr>\n",
       "  </thead>\n",
       "  <tbody>\n",
       "    <tr>\n",
       "      <th>0</th>\n",
       "      <td>pearson</td>\n",
       "      <td>1.0</td>\n",
       "      <td>17976.501606</td>\n",
       "      <td>2.0</td>\n",
       "      <td>0.0</td>\n",
       "      <td>0.237911</td>\n",
       "      <td>1.0</td>\n",
       "    </tr>\n",
       "  </tbody>\n",
       "</table>\n",
       "</div>"
      ],
      "text/plain": [
       "      test  lambda          chi2  dof  pval    cramer  power\n",
       "0  pearson     1.0  17976.501606  2.0   0.0  0.237911    1.0"
      ]
     },
     "execution_count": 81,
     "metadata": {},
     "output_type": "execute_result"
    }
   ],
   "source": [
    "expected, observed, stats = pingouin.chi2_independence(data=ct_exams, x='Year', y='ProtocolSystem', correction=False)\n",
    "stats[stats['test']=='pearson']"
   ]
  }
 ],
 "metadata": {
  "kernelspec": {
   "display_name": "datasci",
   "language": "python",
   "name": "datasci"
  },
  "language_info": {
   "codemirror_mode": {
    "name": "ipython",
    "version": 3
   },
   "file_extension": ".py",
   "mimetype": "text/x-python",
   "name": "python",
   "nbconvert_exporter": "python",
   "pygments_lexer": "ipython3",
   "version": "3.9.12 (main, Apr  5 2022, 01:52:34) \n[Clang 12.0.0 ]"
  },
  "orig_nbformat": 4
 },
 "nbformat": 4,
 "nbformat_minor": 2
}
